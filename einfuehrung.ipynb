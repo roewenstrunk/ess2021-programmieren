{
  "nbformat": 4,
  "nbformat_minor": 0,
  "metadata": {
    "kernelspec": {
      "display_name": "Python 3",
      "language": "python",
      "name": "python3"
    },
    "language_info": {
      "codemirror_mode": {
        "name": "ipython",
        "version": 3
      },
      "file_extension": ".py",
      "mimetype": "text/x-python",
      "name": "python",
      "nbconvert_exporter": "python",
      "pygments_lexer": "ipython3",
      "version": "3.8.5"
    },
    "colab": {
      "name": "einfuehrung.ipynb",
      "provenance": []
    }
  },
  "cells": [
    {
      "cell_type": "markdown",
      "metadata": {
        "id": "GIbq0p-qLIEN"
      },
      "source": [
        "# Einführung\n",
        "\n",
        "## Jupyter Notebooks\n",
        "\n",
        "Das Jupyter-Notebook ist eine Open-Source-Webanwendung, mit der Sie Dokumente erstellen und austauschen können, die Live-Code, Gleichungen, Visualisierungen und erzählenden Text enthalten. Zu den Verwendungszwecken gehören: Datenbereinigung und -transformation, numerische Simulation, statistische Modellierung, Datenvisualisierung, maschinelles Lernen und vieles mehr."
      ]
    },
    {
      "cell_type": "code",
      "metadata": {
        "id": "7YT7tFWHLIER"
      },
      "source": [
        "print(\"hello world\")"
      ],
      "execution_count": null,
      "outputs": []
    },
    {
      "cell_type": "markdown",
      "metadata": {
        "id": "rcr7h5AmLIET"
      },
      "source": [
        "## Google Colaboratory\n",
        "\n",
        "Mit Colaboratory oder kurz \"Colab\" könnt ihr Python-Code in eurem Browser schreiben und ausführen.\n",
        "\n",
        "- Es ist keine Konfiguration erforderlich\n",
        "- Man erhält kostenlosen Zugriff auf GPUs (für Neuronale Netze spannend!)\n",
        "- Einfaches Teilen und Freigeben von Code\n",
        "\n",
        "Google bietet einen Einstieg in Colab in diesem Video <a href=\"https://www.youtube.com/watch?v=inN8seMm7UI\">Einführung in Colab</a>."
      ]
    },
    {
      "cell_type": "markdown",
      "metadata": {
        "id": "va5ZxVa7LIET"
      },
      "source": [
        "## Python\n",
        "\n",
        "<img src=\"https://www.python.org/static/community_logos/python-logo-master-v3-TM.png\" alt=\"Python\" style=\"width:300px;\"/>\n",
        "\n",
        "[Python](https://www.python.org/) ist eine interpretierte, höhere Programmiersprache, die sowohl funktionale als auch objektorientierte Programmierung erlaubt. Python ist eine sogenannte Scriptsprache und wird über einen Interpreter ausgeführt.\n",
        "\n",
        "Die Bezeichnung \"Python\" geht auf die britische Komikergruppe [Monty Python](https://de.wikipedia.org/wiki/Monty_Python) zurück, die Assoziation zur Python (Schlange) haben sich allerdings durchgesetzt. Python ist aktuell in der Version 3.9.7."
      ]
    },
    {
      "cell_type": "markdown",
      "metadata": {
        "id": "rd_1E_thLIEU"
      },
      "source": [
        "## Was ist ein Programm und wie können wir es aufschreiben?\n",
        "\n",
        "Ein Programm ist eine Art Rezept. Die Zutaten werden über Deklarationen dem Koch bzw. dem Interpreter bekannt gemacht. Wie das Gericht mit Hilfe der Zutaten erstellt oder ein spezifisches Problem gelöst wird, wird mit Hilfe von Instruktionen festgehalten."
      ]
    },
    {
      "cell_type": "markdown",
      "metadata": {
        "id": "3XTxV52kLIEU"
      },
      "source": [
        "### Von der Idee zum Programm\n",
        "\n",
        "Ausgehend von einer Idee beschreiben wir zunächst in unseren eigenen Worten, welches Ziel wir gern (mit Hilfe eines Programms) erreichen möchten. Eine solches Ziel könnte zum Beispiel sein, dass wir in einem Text die durchschnittliche Länge der Sätze (hier als Anzahl der Wörter) eines Texts ermitteln möchten.\n",
        "\n",
        "Ziel: Das Programm soll einen Text einlesen und die durchschnittliche Wortanzahl der Sätze berechnen.\n",
        "\n",
        "Nun fragen wir uns, welche Deklarationen und welche Instruktionen ein solches Programm braucht, um das Ziel zu erreichen."
      ]
    },
    {
      "cell_type": "markdown",
      "metadata": {
        "id": "Ma34pnsfLIEU"
      },
      "source": [
        "### Pseudo-Code\n",
        "\n",
        "Gegeben ist ein Text `text`  \n",
        "Zerlege `text` in einzelne Sätze `sentence*`  \n",
        "Zähle für jeden Satz `sentence` die Anzahl Wörter `word_count`  \n",
        "Addiere `word_count` zu `word_count_all`  \n",
        "Teile `word_count_all` durch Anzahl `sentence*` und gib das Ergebnis aus\n"
      ]
    },
    {
      "cell_type": "markdown",
      "metadata": {
        "id": "H2V4vj1ELIEV"
      },
      "source": [
        "Welche Deklarationen brauchen wir?"
      ]
    },
    {
      "cell_type": "markdown",
      "metadata": {
        "id": "R1plupKWLIEW"
      },
      "source": [
        "Ein Rezept besteht also aus folgenden Schritten:\n",
        "\n",
        "* Eine Anzahl einzelner Werte (Zutaten)\n",
        "* Eine Anzahl einzelner, einfacher Schritte\n",
        "* Eine Anweisung, in welcher Reihenfolge die Schritte prozessiert werden sollen\n",
        "* Eine Bedingung, wann das Rezept zuende ist\n",
        "\n",
        "=> Das ist ein Algorithmus"
      ]
    },
    {
      "cell_type": "markdown",
      "metadata": {
        "id": "E7r4nUFqLIEX"
      },
      "source": [
        "### Syntax und Semantik\n",
        "\n",
        "Die Syntax eines Programms ist durch die Programmiersprache vorgegeben. Sie ist potentiell überprüfbar, was durch viele Editoren schon bei der Eingabe des Programms passiert.\n",
        "\n",
        "Die Semantik – Pseudo-Code beschreibt nur die Semantik – wird durch unser Programm vorgegeben, sie kann nicht von einem Editor, Compiler oder Interpreter überprüft werden. Wenn wir eine semantische Prüfung wollen, müssen wir hierzu Tests schreiben."
      ]
    }
  ]
}