{
  "nbformat": 4,
  "nbformat_minor": 0,
  "metadata": {
    "kernelspec": {
      "display_name": "Python 3",
      "language": "python",
      "name": "python3"
    },
    "language_info": {
      "codemirror_mode": {
        "name": "ipython",
        "version": 3
      },
      "file_extension": ".py",
      "mimetype": "text/x-python",
      "name": "python",
      "nbconvert_exporter": "python",
      "pygments_lexer": "ipython3",
      "version": "3.8.5"
    },
    "colab": {
      "name": "uebungsaufgaben2.ipynb",
      "provenance": [],
      "collapsed_sections": []
    }
  },
  "cells": [
    {
      "cell_type": "markdown",
      "metadata": {
        "id": "GDqhwmxNVQbN"
      },
      "source": [
        "# Übungsaufgaben 2"
      ]
    },
    {
      "cell_type": "code",
      "metadata": {
        "id": "RhoZHhLRVQbQ"
      },
      "source": [
        "# Wir wollen die durchschnittliche Anzahl Wörter in den Sätzen eines Texts berechnen\n",
        "# Der Text \"Geisterkneipe\" von Lukas Böhl liegt in der Datei \"geisterkneipe.txt\" vor\n",
        "# 1. Berechne die durchschnittliche Anzahl Wörter pro Satz in \"Geisterkneipe\"\n",
        "\n",
        "# Diese Funktion öffnet eine Datei, liest sie als Text-Datei\n",
        "# und gibt den Text turück\n",
        "def read_content(filepath):\n",
        "    file = open(filepath)\n",
        "    text = file.read()\n",
        "    file.close()\n",
        "    return text\n",
        "\n",
        "# Diese Funktion zerteilt einen Satz an jedem Leerzeichen.\n",
        "# Das ist sicher kein sehr kluges Konzept für Worte und sollte\n",
        "# sicher noch verfeinert bzw. verbessert werden\n",
        "def count_words(sentence):\n",
        "    words = sentence.split(' ')\n",
        "    return len(words)\n",
        "\n",
        "# Eine Variable, in der wir uns die Gesamtanzahl Wörter merken\n",
        "word_count_all = 0\n",
        "\n",
        "# Wir öffnen die Datei geisterkneipe.txt (findet ihr in Github)\n",
        "# und lassen uns von unserer Funktion den Text zurück geben\n",
        "geisterkneipe = read_content('geisterkneipe.txt')\n",
        "\n",
        "# Der Text hat eine Überschrift und nach zwei Zeilenumbrüchen\n",
        "# kommt der eigentliche Text. Deswegen teilen wir den gesamten\n",
        "# Text an den beiden Zeilenumbrüchen (\\n) und nehmen den\n",
        "# zweiten Teil (Index = 1)\n",
        "geisterkneipe = geisterkneipe.split('\\n\\n')\n",
        "geisterkneipe = geisterkneipe[1]\n",
        "\n",
        "# Wir teilen den Text an jedem Punkt. Auch das ist nicht sehr klug\n",
        "# und müsste für andere Texte noch verbessert werden.\n",
        "# Das letzte Element ist kein Satz mehr und wird über \".pop()\"\n",
        "# gelöscht.\n",
        "sentences = geisterkneipe.split('.')\n",
        "sentences.pop()\n",
        "\n",
        "# Für jeden Satz lesen wir die Anzahl Wörter aus\n",
        "for sentence in sentences:\n",
        "    word_count_all = word_count_all + count_words(sentence.strip())\n",
        "\n",
        "# Wir teilen die Anzahl aller Worte durch die Anzahl Sätze\n",
        "print(word_count_all / len(sentences))"
      ],
      "execution_count": null,
      "outputs": []
    },
    {
      "cell_type": "code",
      "metadata": {
        "id": "dxNzhEiVVQbS"
      },
      "source": [
        "# 1. Wir wollen eine CSV-Datei mit Angaben zu Bildern in der Bodleian Library in Oxford einlesen\n",
        "# 2. Wir geben die URLs der Bilder aus (\"{url}full/{width},/0/default.jpg\")\n",
        "# 3. Wir laden die Bilder herunter\n",
        "        \n",
        "import csv\n",
        "import requests\n",
        "\n",
        "with open('image-urls.csv') as csvfile:\n",
        "  reader = csv.DictReader(csvfile)\n",
        "\n",
        "  for row in reader:\n",
        "    width = row['width']\n",
        "    url = row['url']\n",
        "    label = row['label']\n",
        "\n",
        "    img_url = f'{url}full/{width},/0/default.jpg'\n",
        "\n",
        "    r = requests.get(img_url)\n",
        "    open(label + '.jpg', 'wb').write(r.content)\n"
      ],
      "execution_count": null,
      "outputs": []
    }
  ]
}