{
  "nbformat": 4,
  "nbformat_minor": 0,
  "metadata": {
    "kernelspec": {
      "display_name": "Python 3",
      "language": "python",
      "name": "python3"
    },
    "language_info": {
      "codemirror_mode": {
        "name": "ipython",
        "version": 3
      },
      "file_extension": ".py",
      "mimetype": "text/x-python",
      "name": "python",
      "nbconvert_exporter": "python",
      "pygments_lexer": "ipython3",
      "version": "3.8.5"
    },
    "colab": {
      "name": "uebungsaufgaben2.ipynb",
      "provenance": [],
      "collapsed_sections": []
    }
  },
  "cells": [
    {
      "cell_type": "markdown",
      "metadata": {
        "id": "GDqhwmxNVQbN"
      },
      "source": [
        "# Übungsaufgaben 2"
      ]
    },
    {
      "cell_type": "code",
      "metadata": {
        "id": "RhoZHhLRVQbQ"
      },
      "source": [
        "# Wir wollen die durchschnittliche Anzahl Wörter in den Sätzen eines Texts berechnen\n",
        "# Der Text \"Geisterkneipe\" von Lukas Böhl liegt in der Datei \"geisterkneipe.txt\" vor\n",
        "# 1. Berechne die durchschnittliche Anzahl Wörter pro Satz in \"Geisterkneipe\"\n"
      ],
      "execution_count": null,
      "outputs": []
    },
    {
      "cell_type": "code",
      "metadata": {
        "id": "dxNzhEiVVQbS"
      },
      "source": [
        "# 1. Wir wollen eine CSV-Datei mit Angaben zu Bildern in der Bodleian Library in Oxford einlesen\n",
        "# 2. Wir geben die URLs der Bilder aus (\"{url}full/{width},/0/default.jpg\")\n",
        "# 3. Wir laden die Bilder herunter\n",
        "        "
      ],
      "execution_count": null,
      "outputs": []
    }
  ]
}