{
  "nbformat": 4,
  "nbformat_minor": 0,
  "metadata": {
    "kernelspec": {
      "display_name": "Python 3",
      "language": "python",
      "name": "python3"
    },
    "language_info": {
      "codemirror_mode": {
        "name": "ipython",
        "version": 3
      },
      "file_extension": ".py",
      "mimetype": "text/x-python",
      "name": "python",
      "nbconvert_exporter": "python",
      "pygments_lexer": "ipython3",
      "version": "3.8.5"
    },
    "colab": {
      "name": "Kopie von uebungsaufgaben1.ipynb",
      "provenance": []
    }
  },
  "cells": [
    {
      "cell_type": "markdown",
      "metadata": {
        "id": "dnnNK4ySSDZE"
      },
      "source": [
        "# Übungsaufgaben 1\n",
        "\n",
        "Bitte schreibt euer Programm immer erst im Pseudo-Code, damit ihr euch zuerst auf die Funktion des Programms konzentrieren könnt, ohne euch von den Besonderheiten der Python-Syntax ablenken zu lassen."
      ]
    },
    {
      "cell_type": "code",
      "metadata": {
        "id": "PqVCl_1wSDZG"
      },
      "source": [
        "# Schreibe ein Programm, das eine Zahl einliest und prüft,\n",
        "# ob diese gerade oder ungerade ist.\n",
        "# Hinweis: Der Operator 'modulo' kann hier helfen.\n"
      ],
      "execution_count": null,
      "outputs": []
    },
    {
      "cell_type": "code",
      "metadata": {
        "id": "oufxB-gLSDZH"
      },
      "source": [
        "# Schreibe ein Programm, das eine Jahreszahl einliest und\n",
        "# für diese Jahreszahl prüft, ob dieses Jahr ein Schaltjahr\n",
        "# ist.\n",
        "# Hinweis zur Berechnung: https://www.umrechnung.org/zeit-datum-kalender/schaltjahr.htm\n"
      ],
      "execution_count": null,
      "outputs": []
    },
    {
      "cell_type": "code",
      "metadata": {
        "id": "nyj9UbbMSDZI"
      },
      "source": [
        "# Schreibe ein Programm, das das Volumen eines Kegels\n",
        "# bestimmt. Lies dazu den Radius der Grundfläche und\n",
        "# die Höhe des Kegels ein.\n",
        "# Hinweis: Das Volumen v berechnet sich aus Grundfläche * Höhe * 1/3\n"
      ],
      "execution_count": null,
      "outputs": []
    },
    {
      "cell_type": "code",
      "metadata": {
        "id": "HTrIMLV2SDZJ"
      },
      "source": [
        "# Schreibe ein Programm, das berechnet, wie viele Tage seit\n",
        "# einem gegebenen Datum vergangen sind. Lest dazu das Datum\n",
        "# in drei Werten (Jahr, Monat, Tag) ein. Ihr könnt das heutige\n",
        "# Datum als Referenz fest in das Programm schreiben.\n",
        "# Hinweis: Fangt erstmal klein an und wählt ein Datum in diesem\n",
        "# Monat und berechnet nur die Tage. Dann erweitert es bis hin\n",
        "# zu der Frage, ob ein vergangenes Jahr ein Schaltjahr war.\n"
      ],
      "execution_count": null,
      "outputs": []
    }
  ]
}