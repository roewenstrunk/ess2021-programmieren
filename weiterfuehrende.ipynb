{
  "nbformat": 4,
  "nbformat_minor": 0,
  "metadata": {
    "kernelspec": {
      "display_name": "Python 3",
      "language": "python",
      "name": "python3"
    },
    "language_info": {
      "codemirror_mode": {
        "name": "ipython",
        "version": 3
      },
      "file_extension": ".py",
      "mimetype": "text/x-python",
      "name": "python",
      "nbconvert_exporter": "python",
      "pygments_lexer": "ipython3",
      "version": "3.8.5"
    },
    "colab": {
      "name": "weiterfuehrende.ipynb",
      "provenance": [],
      "collapsed_sections": []
    }
  },
  "cells": [
    {
      "cell_type": "markdown",
      "metadata": {
        "id": "ng4FUHvXS5DC"
      },
      "source": [
        "# Weiterführende Elemente der Programmierung"
      ]
    },
    {
      "cell_type": "markdown",
      "metadata": {
        "id": "64Wnb-7GS5DF"
      },
      "source": [
        "## Schleifen\n",
        "\n",
        "Eins der wichtigsten Konstrukte für die Programmierung ist die Schleife. Schleifen erlauben es uns, einen Teil des Programms mehrmals unter (leicht) veränderten Bedingungen auszuführen.\n",
        "\n",
        "Wir unterscheiden dabei zwei Arten von Schleifen: \n",
        "\n",
        "* `for`-Schleife: Iteration über eine gegebene Sequenz von Objekten\n",
        "* `while`-Schleife: Iterationen solange eine boolsche Abbruchbedingung nicht erfüllt ist"
      ]
    },
    {
      "cell_type": "markdown",
      "metadata": {
        "id": "Cu7IVlQ2S5DG"
      },
      "source": [
        "### for-Schleife\n",
        "\n",
        "Die `for`-Schleife iteriert über eine vorgegebene Sequenz von Objekten, wobei die Art der Objekte sehr unterschiedlich sein kann. Jede Iteration beinhaltet dann das Objekt, das gerade \"dran\" ist."
      ]
    },
    {
      "cell_type": "code",
      "metadata": {
        "id": "qzbIrVnTS5DG"
      },
      "source": [
        "for i in [1, 2, 3, 4]:\n",
        "    print(i)"
      ],
      "execution_count": null,
      "outputs": []
    },
    {
      "cell_type": "code",
      "metadata": {
        "id": "bXao2bnuS5DH"
      },
      "source": [
        "for t in ['Mareike', 'Julius', 'Peter']:\n",
        "    print('Hallo ' + t)"
      ],
      "execution_count": null,
      "outputs": []
    },
    {
      "cell_type": "code",
      "metadata": {
        "id": "jO6Lm5VgS5DI"
      },
      "source": [
        "for x in [3, 'Daniel', True, 5.7]:\n",
        "    print(x)"
      ],
      "execution_count": null,
      "outputs": []
    },
    {
      "cell_type": "markdown",
      "metadata": {
        "id": "_Po6QDwBS5DI"
      },
      "source": [
        "### while-Schleife\n",
        "\n",
        "Für die `while`-Schleife deklarieren wir keine feste Sequenz, sondern eine Abbruchbedingung. Vor jeder Iteration wird geprüft, wie der Status der Abbruchbedingung ist. Ist die Abbruchbedingung `False`, führt die Schleife eine weitere Iteration durch. Ist die Abbruchbedingung `True`, wird keine weitere Iteration mehr durchgeführt."
      ]
    },
    {
      "cell_type": "code",
      "metadata": {
        "id": "wpJEIpicS5DJ"
      },
      "source": [
        "i = 0\n",
        "while i < 5:\n",
        "    print(i)\n",
        "    i += 2"
      ],
      "execution_count": null,
      "outputs": []
    },
    {
      "cell_type": "markdown",
      "metadata": {
        "id": "0q4ygAp5S5DK"
      },
      "source": [
        "### Nützliche Konstrukte für Schleifen\n",
        "\n",
        "Die Funktion `range()` erzeugt eine Sequenz mit Zahlen: https://docs.python.org/3.9/library/functions.html#func-range"
      ]
    },
    {
      "cell_type": "code",
      "metadata": {
        "id": "FHSUVRdBS5DK"
      },
      "source": [
        "for x in range(5):\n",
        "    print(x)\n",
        "\n",
        "print('----')\n",
        "\n",
        "for x in range(3, 6):\n",
        "    print(x)\n",
        "\n",
        "print('----')\n",
        "\n",
        "for x in range(3, 16, 5):\n",
        "    print(x)"
      ],
      "execution_count": null,
      "outputs": []
    },
    {
      "cell_type": "markdown",
      "metadata": {
        "id": "AZaJB2SJS5DK"
      },
      "source": [
        "Die Funktion `enumerate()` iteriert über einzelne Elemente eines Objekts (z.B. einem String). Spannend an dieser Funktion ist, dass sie uns nicht nur das Element zurückgibt, das sie gerade betrachtet, sondern auch dessen Position.  \n",
        "https://docs.python.org/3.9/library/functions.html#enumerate"
      ]
    },
    {
      "cell_type": "code",
      "metadata": {
        "id": "wST1z2ZBS5DL"
      },
      "source": [
        "for index, elem in enumerate(['Mareike', 'Julius', 'Peter']):\n",
        "    print(index, ': ' + elem, sep='')"
      ],
      "execution_count": null,
      "outputs": []
    },
    {
      "cell_type": "markdown",
      "metadata": {
        "id": "Xq5BP0-ZS5DL"
      },
      "source": [
        "### Übungsaufgabe\n",
        "\n",
        "Gegeben ist ein etwas merkwürdiger Text `text = 'E4dcitrzosm_ tS4ulmdmweürc lS-cfhhosoglä'`, mit dem offenbar etwas schief gelaufen ist. Bitte schreibt ein Programm, das immer nur den zweiten Buchstaben des Texts ausgibt."
      ]
    },
    {
      "cell_type": "code",
      "metadata": {
        "id": "6rmikOK1S5DL"
      },
      "source": [
        "# Bitte schreibt ein Programm, das Zeichen für Zeichen durch\n",
        "# den Text iteriert und jedes zweite Zeichen ausgibt.\n",
        "# Hinweise: enumerate(), modulo und print()\n",
        "\n",
        "# Wir prüfen für jedes Zeichen, ob die Position des Zeichens gerade oder ungerade ist\n",
        "# und geben nur die Zeichen aus, die an gerader Position stehen\n",
        "\n",
        "text = 'E4dcitrzosm_ tS4ulmdmweürc lS-cfhhosoglä'\n"
      ],
      "execution_count": null,
      "outputs": []
    },
    {
      "cell_type": "code",
      "metadata": {
        "id": "4UvAExlPkNXI"
      },
      "source": [
        "# Schreibe einen Dezimal zu Hexadezimal Konverter\n",
        "# 1. Teile die Dezimalzahl durch 16\n",
        "# 2. Merke dir das ganzzahlige Ergebnis für die nächste Iteration\n",
        "# 3. Übertrage den ganzzahligen Rest in Hexadezimal-Form\n",
        "# 4. Wiederhole den Vorgang mit dem gemerkten ganzzahligen Ergebnis bis dieses 0 ist\n"
      ],
      "execution_count": null,
      "outputs": []
    },
    {
      "cell_type": "markdown",
      "metadata": {
        "id": "vwW7OtbAS5DM"
      },
      "source": [
        "## Datenstrukturen\n",
        "\n",
        "### Tuples\n",
        "\n",
        "Tuples sind einfache Listen in Python, die nicht mehr veränderbar sind, wenn sie einmal deklariert wurden."
      ]
    },
    {
      "cell_type": "code",
      "metadata": {
        "id": "ehwW62rwS5DM"
      },
      "source": [
        "beispiel_tuple = ('Mareike', 'Julius', 'Peter', 3, 7.5, 'Julius', 'Daniel')\n",
        "\n",
        "for elem in beispiel_tuple:\n",
        "    print(elem,  ' (Datentyp = ', type(elem), ')', sep='')"
      ],
      "execution_count": null,
      "outputs": []
    },
    {
      "cell_type": "code",
      "metadata": {
        "id": "p3FHa_unS5DM"
      },
      "source": [
        "print(beispiel_tuple[0])"
      ],
      "execution_count": null,
      "outputs": []
    },
    {
      "cell_type": "code",
      "metadata": {
        "id": "f0nH8W-XS5DM"
      },
      "source": [
        "print(beispiel_tuple[4])"
      ],
      "execution_count": null,
      "outputs": []
    },
    {
      "cell_type": "code",
      "metadata": {
        "id": "WkHr6NpIS5DM"
      },
      "source": [
        "print(beispiel_tuple[-3])"
      ],
      "execution_count": null,
      "outputs": []
    },
    {
      "cell_type": "code",
      "metadata": {
        "id": "02pCYLMQS5DN"
      },
      "source": [
        "beispiel_tuple.count('Julius')"
      ],
      "execution_count": null,
      "outputs": []
    },
    {
      "cell_type": "code",
      "metadata": {
        "id": "o2dQ2ERiS5DN"
      },
      "source": [
        "beispiel_tuple.index(3)"
      ],
      "execution_count": null,
      "outputs": []
    },
    {
      "cell_type": "markdown",
      "metadata": {
        "id": "O7wYujWnS5DN"
      },
      "source": [
        "### Lists\n",
        "\n",
        "Listen sind wie Tuples eine Sequenz von Objekten. Listen können aber zur Laufzeit verändert werden. Es können sowohl die Werte in einer Liste verändert werden als auch die Anzahl der Elemente veringert oder vergrößert werden."
      ]
    },
    {
      "cell_type": "code",
      "metadata": {
        "id": "GV-bRSQGS5DN"
      },
      "source": [
        "beispiel_list = ['Mareike', 'Julius', 'Peter', 3, 7.5, 'Julius', 'Daniel']\n",
        "\n",
        "beispiel_list.remove('Julius')\n",
        "\n",
        "for index, elem in enumerate(beispiel_list):\n",
        "    print(str(index) + ': ' + str(elem))"
      ],
      "execution_count": null,
      "outputs": []
    },
    {
      "cell_type": "code",
      "metadata": {
        "id": "xnour5lHS5DN"
      },
      "source": [
        "print(beispiel_list[1])\n",
        "print(beispiel_list[2:4])\n",
        "print(beispiel_list[:2])\n",
        "print(beispiel_list[4:])"
      ],
      "execution_count": null,
      "outputs": []
    },
    {
      "cell_type": "code",
      "metadata": {
        "id": "rN3JW7d8S5DN"
      },
      "source": [
        "print(beispiel_list)\n",
        "beispiel_list[1] = 'Dennis'\n",
        "beispiel_list[4] = 'Fiona'\n",
        "print(beispiel_list)"
      ],
      "execution_count": null,
      "outputs": []
    },
    {
      "cell_type": "code",
      "metadata": {
        "id": "AsKeoqgQS5DO"
      },
      "source": [
        "if 'Daniel' in beispiel_list:\n",
        "    print('Ja, Daniel ist in der Liste')"
      ],
      "execution_count": null,
      "outputs": []
    },
    {
      "cell_type": "code",
      "metadata": {
        "id": "UQoFPKrlS5DO"
      },
      "source": [
        "print(len(beispiel_list))\n",
        "beispiel_list.append('Anastasia')\n",
        "print(len(beispiel_list))\n",
        "\n",
        "print(beispiel_list)\n",
        "beispiel_list.insert(1, 'Johannes')\n",
        "\n",
        "print(beispiel_list)\n",
        "beispiel_list.pop()\n",
        "\n",
        "print(beispiel_list)\n",
        "beispiel_list.remove('Fiona')\n",
        "\n",
        "print(beispiel_list)\n",
        "del beispiel_list[2]\n",
        "\n",
        "print(beispiel_list)"
      ],
      "execution_count": null,
      "outputs": []
    },
    {
      "cell_type": "markdown",
      "metadata": {
        "id": "JusPTVVRS5DO"
      },
      "source": [
        "Eine Übersicht der Funktionen, die wir auf Listen ausführen können, findet ihr hier: https://www.w3schools.com/python/python_lists.asp"
      ]
    },
    {
      "cell_type": "markdown",
      "metadata": {
        "id": "3btQjpZtS5DO"
      },
      "source": [
        "### Sets\n",
        "\n",
        "Sets sind Sammlungen von Werten. Die Werte dürfen alle nur einmal vorkommen. Eine feste Reihenfolge haben Sets nicht. Die Funktionen, die wir auf Sets ausführen können, findet ihr hier: https://www.w3schools.com/python/python_sets.asp"
      ]
    },
    {
      "cell_type": "code",
      "metadata": {
        "id": "3x0WI0CVS5DO"
      },
      "source": [
        "beispiel_set = {'Daniel', 'Anastasia', 'Peter'}\n",
        "\n",
        "for elem in beispiel_set:\n",
        "    print(elem)"
      ],
      "execution_count": null,
      "outputs": []
    },
    {
      "cell_type": "markdown",
      "metadata": {
        "id": "6__yLbTQS5DP"
      },
      "source": [
        "### Dictionaries\n",
        "\n",
        "Dictionaries sind Sammlungen von Werten, die wie bei Sets unsortiert sind. Im Gegensatz zu Sets besitzen die Einträge in einem Dictionary immer einen `Key` und einen `Value`. Werte in einem Dictionary sind somit adressierbar."
      ]
    },
    {
      "cell_type": "code",
      "metadata": {
        "id": "w7n7fD-uS5DP"
      },
      "source": [
        "beispiel_dictionary = {\n",
        "    'work': 'Der Freischütz',\n",
        "    'composer': 'Carl Maria von Weber',\n",
        "    'date': 1821\n",
        "}\n",
        "\n",
        "print(beispiel_dictionary['work'])\n",
        "print(beispiel_dictionary.get('composer'))\n",
        "\n",
        "beispiel_dictionary['date'] = 1820 # Entschuldigt, ich habe mich vertan ;-)\n",
        "\n",
        "print(beispiel_dictionary)"
      ],
      "execution_count": null,
      "outputs": []
    },
    {
      "cell_type": "code",
      "metadata": {
        "id": "kG2Lj9SbS5DP"
      },
      "source": [
        "for key, value in beispiel_dictionary.items():\n",
        "    print(key, value)"
      ],
      "execution_count": null,
      "outputs": []
    },
    {
      "cell_type": "markdown",
      "metadata": {
        "id": "IQ9Szu5YS5DP"
      },
      "source": [
        "Die Funktionen, die wir im Zusammenhang mit Dictionaries benutzen können, findet ihr hier: https://www.w3schools.com/python/python_dictionaries.asp"
      ]
    },
    {
      "cell_type": "markdown",
      "metadata": {
        "id": "mM4qF1c1S5DP"
      },
      "source": [
        "### Übungsaufgabe\n",
        "\n",
        "Erfrage bei deinem Nutzer seinen Vornamen, den Nachnamen und das Geburtsjahr. Speichere diese Werte in einem Dictionary. Lies aus dem Datensatz den Vornamen aus und berechne das Alter anhand des Geburtsjahres. Gib einen Satz aus, in dem du den Nutzer mit seinem Vornamen ansprichst und ihm sein Alter nennst."
      ]
    },
    {
      "cell_type": "code",
      "metadata": {
        "id": "mV7e-HejS5DP"
      },
      "source": [
        "# Übungsaufgabe zu Dictionaries\n"
      ],
      "execution_count": null,
      "outputs": []
    },
    {
      "cell_type": "markdown",
      "metadata": {
        "id": "0mCi5wEoS5DP"
      },
      "source": [
        "## Funktionen\n",
        "\n",
        "Für wiederkehrende Aufgaben schreiben wir uns Funktionen, damit wir den Programmabschnitt nicht öfter schreiben müssen. Funktionen werden im Programm einmal definiert und können dann beliebig oft aufgerufen werden."
      ]
    },
    {
      "cell_type": "code",
      "metadata": {
        "id": "ehO-V3XLS5DQ"
      },
      "source": [
        "def hello_world():\n",
        "    print(\"Hello World\")\n",
        "\n",
        "hello_world()\n",
        "hello_world()"
      ],
      "execution_count": null,
      "outputs": []
    },
    {
      "cell_type": "code",
      "metadata": {
        "id": "xrCCh-JlS5DQ"
      },
      "source": [
        "\"\"\"\n",
        "Berechnet das Alter einer Person im Jahr 2021.\n",
        "\"\"\"\n",
        "def berechne_alter(person):\n",
        "    AKTUELLES_JAHR = 2021\n",
        "    geburtsjahr = person['geburtsjahr']\n",
        "    return AKTUELLES_JAHR - geburtsjahr"
      ],
      "execution_count": null,
      "outputs": []
    },
    {
      "cell_type": "code",
      "metadata": {
        "id": "N7tkwFe3S5DQ"
      },
      "source": [
        "# Übung zu Funktionen\n",
        "# Ändert das oben stehende Programm zu dem Dictionary so, dass es die neue Funktion nutzt\n"
      ],
      "execution_count": null,
      "outputs": []
    },
    {
      "cell_type": "code",
      "metadata": {
        "id": "u6ZDAH_dS5DQ"
      },
      "source": [
        "# Funktionen können, wie wir ja auch schon gesehen haben, mehrere Parameter haben. \n",
        "def funktion1(*args):\n",
        "    print(args)\n",
        "\n",
        "funktion1('Dennis')"
      ],
      "execution_count": null,
      "outputs": []
    },
    {
      "cell_type": "code",
      "metadata": {
        "id": "CQeAY8_DS5DQ"
      },
      "source": [
        "# Argumente können auch mit dem Parametername an eine Funktion übergeben werden\n",
        "def funktion2(arg1, arg2):\n",
        "    print(f\"arg1 {arg1} und arg2 {arg2}\")\n",
        "\n",
        "funktion2('steht vorn', 'steht hinten')\n",
        "funktion2(arg2='steht hinten', arg1='steht vorne')"
      ],
      "execution_count": null,
      "outputs": []
    },
    {
      "cell_type": "code",
      "metadata": {
        "id": "IUHVVgQ7S5DQ"
      },
      "source": [
        "# Und es können Default-Werte angegeben werden\n",
        "def funktion3(arg1='Wenn nichts da ist, nehme ich diesen Wert'):\n",
        "    print(arg1)\n",
        "    \n",
        "funktion3()\n",
        "funktion3('Hier kommt aber doch etwas')"
      ],
      "execution_count": null,
      "outputs": []
    },
    {
      "cell_type": "markdown",
      "metadata": {
        "id": "bSSm264bp1ai"
      },
      "source": [
        "## Module\n",
        "\n",
        "Module sind Python-Dateien, die Statements und Functions beinhalten, die wir in unseren Scripten (nach-)nutzen können. Es gibt für viele Kontexte Module, die uns das Programmieren deutlich erleichtern.\n",
        "\n",
        "Ein Beispiel dafür ist das Modul `random`: https://docs.python.org/3/library/random.html"
      ]
    },
    {
      "cell_type": "code",
      "metadata": {
        "id": "gHxQB_Onu9lT"
      },
      "source": [
        "import random\n",
        "\n",
        "random.randint(0,100)"
      ],
      "execution_count": null,
      "outputs": []
    },
    {
      "cell_type": "code",
      "metadata": {
        "id": "ZZNxjam9vyjo"
      },
      "source": [
        "from random import randint\n",
        "\n",
        "randint(10,20)"
      ],
      "execution_count": null,
      "outputs": []
    },
    {
      "cell_type": "code",
      "metadata": {
        "id": "11uMiAjDwFfM"
      },
      "source": [
        "from random import randint, random\n",
        "\n",
        "random()"
      ],
      "execution_count": null,
      "outputs": []
    },
    {
      "cell_type": "code",
      "metadata": {
        "id": "5bXwaoDjwRMP"
      },
      "source": [
        "from random import random as rnd\n",
        "\n",
        "rnd()"
      ],
      "execution_count": null,
      "outputs": []
    },
    {
      "cell_type": "markdown",
      "metadata": {
        "id": "y1qXMuuiweon"
      },
      "source": [
        "### Übung zu Modulen\n",
        "\n",
        "Schreibe einen Password-Generator. Nutze dafür die Module `random` und `string` (https://docs.python.org/3/library/string.html). Das Password soll 16 Zeichen lang sein."
      ]
    },
    {
      "cell_type": "code",
      "metadata": {
        "id": "RLU8FHqVxAib"
      },
      "source": [
        "# Übung zu Modulen: Password-Generator\n"
      ],
      "execution_count": null,
      "outputs": []
    }
  ]
}